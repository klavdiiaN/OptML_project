{
  "cells": [
    {
      "cell_type": "markdown",
      "id": "MJUkPE3B4oYT",
      "metadata": {
        "id": "MJUkPE3B4oYT"
      },
      "source": [
        "## Tuning Adam and NosAdam on CNN with CIFAR10 dataset"
      ]
    },
    {
      "cell_type": "markdown",
      "id": "9e359ffb-71a2-43db-87a3-4de42e63aa55",
      "metadata": {
        "id": "9e359ffb-71a2-43db-87a3-4de42e63aa55"
      },
      "source": [
        "# 1.Imports & environment"
      ]
    },
    {
      "cell_type": "code",
      "execution_count": null,
      "id": "2a167aec-3ddd-4067-8b5f-77af4fe2854f",
      "metadata": {
        "id": "2a167aec-3ddd-4067-8b5f-77af4fe2854f"
      },
      "outputs": [],
      "source": [
        "import torch\n",
        "from torch import nn\n",
        "import torch.nn.functional as F\n",
        "import torchvision\n",
        "import matplotlib.pyplot as plt\n",
        "import os\n",
        "import gzip\n",
        "import numpy as np\n",
        "import sys\n",
        "import pickle\n",
        "# os.environ[\"KMP_DUPLICATE_LIB_OK\"]=\"TRUE\"\n",
        "\n",
        "# Setup predictable randomization\n",
        "seed = 10\n",
        "np.random.seed(seed)\n",
        "\n",
        "# Setup CUda\n",
        "device = torch.device(\"cuda\" if torch.cuda.is_available() else \"cpu\")"
      ]
    },
    {
      "cell_type": "markdown",
      "id": "8c42f77e-92d5-4cb3-9099-b699d7c7858d",
      "metadata": {
        "id": "8c42f77e-92d5-4cb3-9099-b699d7c7858d"
      },
      "source": [
        "# 2. Loading and preparing the data\n",
        "Here, we use CIFAR10 dataset containing 60k $32\\times32$ colored images from 10 different classes (labels): plane, car, bird, cat, deer, dog, frog, horse, ship, and truck."
      ]
    },
    {
      "cell_type": "markdown",
      "id": "3668867e-acbe-4676-84dc-1911b88c0729",
      "metadata": {
        "id": "3668867e-acbe-4676-84dc-1911b88c0729"
      },
      "source": [
        "### 2.1. Definition of methods to extract data and labels\n",
        "source: https://stackoverflow.com/questions/37512290/reading-cifar10-dataset-in-batches"
      ]
    },
    {
      "cell_type": "code",
      "execution_count": null,
      "id": "vSEmcUPnR-et",
      "metadata": {
        "id": "vSEmcUPnR-et"
      },
      "outputs": [],
      "source": [
        "def load_CIFAR_batch(filename):\n",
        "    \"\"\" load single batch of cifar \"\"\"\n",
        "    with open(filename, 'rb') as f:\n",
        "        datadict = pickle.load(f, encoding='latin1')\n",
        "        X = datadict['data']\n",
        "        Y = datadict['labels']\n",
        "        X = X.reshape(10000,3072)\n",
        "        Y = np.array(Y)\n",
        "        return X, Y\n",
        "\n",
        "def load_CIFAR10(ROOT):\n",
        "    \"\"\" load all of cifar \"\"\"\n",
        "    xs = []\n",
        "    ys = []\n",
        "    for b in range(1,6):\n",
        "        f = os.path.join(ROOT, 'data_batch_%d' % (b, ))\n",
        "        X, Y = load_CIFAR_batch(f)\n",
        "        xs.append(X)\n",
        "        ys.append(Y)\n",
        "    Xtr = np.concatenate(xs)\n",
        "    Ytr = np.concatenate(ys)\n",
        "    del X, Y\n",
        "    Xte, Yte = load_CIFAR_batch(os.path.join(ROOT, 'test_batch'))\n",
        "    return Xtr, Ytr, Xte, Yte\n",
        "\n",
        "def get_CIFAR10_data(num_training=49000, num_validation=1000, num_test=10000):\n",
        "    # Load the raw CIFAR-10 data\n",
        "    cifar10_dir = 'drive/MyDrive/cifar-10-batches-py/'\n",
        "    X_train, y_train, X_test, y_test = load_CIFAR10(cifar10_dir)\n",
        "    return X_train, y_train, X_test, y_test"
      ]
    },
    {
      "cell_type": "markdown",
      "id": "a048581f-bdb6-4a22-9b0c-9f371c1303b3",
      "metadata": {
        "id": "a048581f-bdb6-4a22-9b0c-9f371c1303b3"
      },
      "source": [
        "### 2.2. Load data"
      ]
    },
    {
      "cell_type": "code",
      "execution_count": null,
      "id": "yU4LqChpSiBq",
      "metadata": {
        "id": "yU4LqChpSiBq"
      },
      "outputs": [],
      "source": [
        "train_images, train_labels, test_images, test_labels = get_CIFAR10_data(num_training=50000, num_test=10000)"
      ]
    },
    {
      "cell_type": "markdown",
      "id": "eff8b6f8-0472-4936-a88d-cde07e2359b4",
      "metadata": {
        "id": "eff8b6f8-0472-4936-a88d-cde07e2359b4"
      },
      "source": [
        "### 2.3. Convert data from numpy arrays to torch tensors"
      ]
    },
    {
      "cell_type": "code",
      "execution_count": null,
      "id": "b3b5bfe7-685e-4adc-8a48-fc1a25a39381",
      "metadata": {
        "colab": {
          "base_uri": "https://localhost:8080/"
        },
        "id": "b3b5bfe7-685e-4adc-8a48-fc1a25a39381",
        "outputId": "2b943bb5-ee56-442d-f0ce-bbff73c4401c"
      },
      "outputs": [
        {
          "name": "stdout",
          "output_type": "stream",
          "text": [
            "Training features: torch.Size([50000, 3072]) \n",
            "Testing features: torch.Size([10000, 3072])\n",
            "Training labels: torch.Size([50000]) \n",
            "Testing labels: torch.Size([10000])\n"
          ]
        }
      ],
      "source": [
        "features_train=torch.from_numpy(train_images).to(device)\n",
        "features_test=torch.from_numpy(test_images).to(device)\n",
        "print('Training features:', features_train.shape, '\\n'\n",
        "'Testing features:', features_test.shape)\n",
        "\n",
        "labels_train=torch.from_numpy(train_labels).to(device)\n",
        "labels_test=torch.from_numpy(test_labels).to(device)\n",
        "print('Training labels:', labels_train.shape, '\\n'\n",
        "'Testing labels:', labels_test.shape)"
      ]
    },
    {
      "cell_type": "markdown",
      "id": "072269a3-e3f6-470c-8ca9-58a0555d9851",
      "metadata": {
        "id": "072269a3-e3f6-470c-8ca9-58a0555d9851"
      },
      "source": [
        "### 2.4. Normalize data"
      ]
    },
    {
      "cell_type": "code",
      "execution_count": null,
      "id": "d24f2cbd-0279-44d6-89d2-1dca355248df",
      "metadata": {
        "id": "d24f2cbd-0279-44d6-89d2-1dca355248df"
      },
      "outputs": [],
      "source": [
        "mean, std = features_train.float().mean(), features_train.float().std()\n",
        "\n",
        "features_train = features_train.float().sub_(mean).div_(std)\n",
        "features_test = features_test.float().sub_(mean).div_(std)"
      ]
    },
    {
      "cell_type": "code",
      "execution_count": null,
      "id": "gO2vsS-k6GY9",
      "metadata": {
        "id": "gO2vsS-k6GY9"
      },
      "outputs": [],
      "source": [
        "#reshape to make the 1st channel be a batch size\n",
        "\n",
        "features_train = features_train.reshape(-1, 3, 32, 32)\n",
        "features_test = features_test.reshape(-1, 3, 32, 32)"
      ]
    },
    {
      "cell_type": "markdown",
      "id": "bdc94097-21c0-4308-ba10-af4dc6d04f30",
      "metadata": {
        "id": "bdc94097-21c0-4308-ba10-af4dc6d04f30"
      },
      "source": [
        "# 3. Setting up networks and evaluation methods"
      ]
    },
    {
      "cell_type": "markdown",
      "id": "g3hZg487lszk",
      "metadata": {
        "id": "g3hZg487lszk"
      },
      "source": [
        "### 3.1. Convolutional Neural Network (CNN)"
      ]
    },
    {
      "cell_type": "code",
      "execution_count": null,
      "id": "yUu42pH8l5md",
      "metadata": {
        "id": "yUu42pH8l5md"
      },
      "outputs": [],
      "source": [
        "class CNN(nn.Module):\n",
        "   def __init__(self):\n",
        "        super(CNN, self).__init__()\n",
        "        self.conv1 = torch.nn.Conv2d(3, 32, kernel_size=5, stride=1, padding='same')\n",
        "        self.conv2 = torch.nn.Conv2d(32, 64, kernel_size=5, stride=1, padding='same')\n",
        "        self.fc1 = nn.Linear(64*8*8, 1024)\n",
        "        self.fc2 = nn.Linear(1024, 10)\n",
        "\n",
        "   def forward(self, input:torch.Tensor) -> torch.Tensor:\n",
        "        pool1 = torch.max_pool2d(F.relu(self.conv1(input)), kernel_size=2, stride=2)\n",
        "        pool2 = torch.max_pool2d(F.relu(self.conv2(pool1)), kernel_size=2, stride=2)\n",
        "        res = pool2.reshape(-1, 64*8*8)\n",
        "        hidden = F.relu(self.fc1(res))\n",
        "        output = self.fc2(hidden)\n",
        "\n",
        "        return output"
      ]
    },
    {
      "cell_type": "markdown",
      "id": "e119d2d9-562a-4bdf-8ce7-eea9d59272fa",
      "metadata": {
        "id": "e119d2d9-562a-4bdf-8ce7-eea9d59272fa"
      },
      "source": [
        "### 3.2. Implementation of method for training"
      ]
    },
    {
      "cell_type": "code",
      "execution_count": null,
      "id": "8e5ca3dd-313e-4c15-99da-10937d42595c",
      "metadata": {
        "id": "8e5ca3dd-313e-4c15-99da-10937d42595c"
      },
      "outputs": [],
      "source": [
        "def run_nn(x_train, y_train, x_test, y_test, model, optimizer, criterion, num_epoch, size_minibatch):\n",
        "\n",
        "    loss_train_ret = 0\n",
        "    loss_test_ret = 0\n",
        "    loss_train = 0\n",
        "            \n",
        "    for epoch in range(num_epoch):\n",
        "        for b in range(0, x_train.size(0), size_minibatch):\n",
        "            y = model(x_train[b:b+size_minibatch])\n",
        "            loss_train = criterion(y, y_train[b:b+size_minibatch])\n",
        "        \n",
        "            optimizer.zero_grad()\n",
        "            loss_train.backward()\n",
        "            optimizer.step()\n",
        "\n",
        "        if epoch == num_epoch - 1:\n",
        "\n",
        "            y_test_obt = model(x_test)\n",
        "            loss_test = criterion(y_test_obt, y_test)\n",
        "            \n",
        "            loss_train_ret = loss_train\n",
        "            loss_test_ret = loss_test\n",
        "            \n",
        "            print('Final, Train Loss: %.4f, Test Loss: %.4f' %(loss_train, loss_test))\n",
        "\n",
        "    return loss_train_ret, loss_test_ret"
      ]
    },
    {
      "cell_type": "markdown",
      "id": "93565277-6e32-47ca-8c17-55098b57d7bb",
      "metadata": {
        "id": "93565277-6e32-47ca-8c17-55098b57d7bb"
      },
      "source": [
        "# 4. Metrics of our tuning protocol\n",
        "At this stage, we want to select the hyperparameter search space for each optimizer. This way, we can first tune the hyperparameters of each optimizer separately and then select the trial that achieved lowest final validation error.\n",
        "We then comapre the optimizers' performance by looking at the validation and test errors as suggested in the paper \"On empirical comparisons of optimizers for deep learning\".\n",
        "\n",
        "No regularization is used."
      ]
    },
    {
      "cell_type": "markdown",
      "id": "92a304d9-db74-4bc5-a12c-b97b971097bd",
      "metadata": {
        "id": "92a304d9-db74-4bc5-a12c-b97b971097bd"
      },
      "source": [
        "### 4.1. Tuning Adam for the CNN on CIFAR10\n",
        "The hyperparameters we are tuning are alpha_0/epsilon, 1 - beta_1, 1 - beta_2, epsilon.\n",
        "The final search spaces are suggested based on the experience of the writers of the same paper, \"On empirical comparisons of optimizers for deep learning\"."
      ]
    },
    {
      "cell_type": "markdown",
      "id": "465c3fd8-c425-4ce5-991a-0ad3cd2ba426",
      "metadata": {
        "id": "465c3fd8-c425-4ce5-991a-0ad3cd2ba426"
      },
      "source": [
        "##### Set up model for training"
      ]
    },
    {
      "cell_type": "code",
      "execution_count": null,
      "id": "FfnUAu5xzl5Z",
      "metadata": {
        "id": "FfnUAu5xzl5Z"
      },
      "outputs": [],
      "source": [
        "# Model fixed parameters\n",
        "model = CNN()\n",
        "model = model.to(device)\n",
        "criterion = nn.CrossEntropyLoss().to(device) # good loss function for classification tasks\n",
        "num_epoch = 50\n",
        "size_minibatch = 128\n",
        "\n",
        "x_train = features_train\n",
        "y_train = labels_train\n",
        "x_test = features_test\n",
        "y_test = labels_test"
      ]
    },
    {
      "cell_type": "markdown",
      "id": "t1eNEdgdzl5a",
      "metadata": {
        "id": "t1eNEdgdzl5a",
        "tags": []
      },
      "source": [
        "##### Tune to find best parameter\n",
        "We perform trials until we have K of them, then we pick the best based on our statistic of interest"
      ]
    },
    {
      "cell_type": "markdown",
      "id": "BcWL5tIe0yBY",
      "metadata": {
        "id": "BcWL5tIe0yBY"
      },
      "source": [
        "##### Set up parameters and search space for the final trial"
      ]
    },
    {
      "cell_type": "code",
      "execution_count": null,
      "id": "2LHRX7mT0yBY",
      "metadata": {
        "id": "2LHRX7mT0yBY"
      },
      "outputs": [],
      "source": [
        "N = 200\n",
        "K = 50 # Number of trials being kept for the statistic\n",
        "\n",
        "# Final search spaces for parameters\n",
        "alpha_0 = np.linspace(10**(-1), 10, N)\n",
        "beta_1 = np.linspace(10**(-3), 1, N)\n",
        "beta_2 = np.linspace(10**(-4), 1, N)\n",
        "eps = np.linspace(10**(-6), 10**(-2), N)"
      ]
    },
    {
      "cell_type": "markdown",
      "id": "VSruqZFS0yBZ",
      "metadata": {
        "id": "VSruqZFS0yBZ"
      },
      "source": [
        "Perform search"
      ]
    },
    {
      "cell_type": "code",
      "execution_count": null,
      "id": "Mormnp9dw7Z9",
      "metadata": {
        "colab": {
          "base_uri": "https://localhost:8080/"
        },
        "id": "Mormnp9dw7Z9",
        "outputId": "5f2ceb58-f818-4b46-eec0-448f1796b4d0"
      },
      "outputs": [
        {
          "name": "stdout",
          "output_type": "stream",
          "text": [
            "Final, Train Loss: 2.3004, Test Loss: 2.3059\n",
            "Final, Train Loss: 1.4072, Test Loss: 1.2655\n",
            "Final, Train Loss: 2.3045, Test Loss: 2.3033\n",
            "Final, Train Loss: 2.3032, Test Loss: 2.3037\n",
            "Final, Train Loss: 2.3067, Test Loss: 2.3047\n",
            "Final, Train Loss: 0.4793, Test Loss: 13.0637\n",
            "Final, Train Loss: 2.2789, Test Loss: 2.2826\n",
            "Final, Train Loss: 0.1766, Test Loss: 15.7397\n",
            "Final, Train Loss: 2.3004, Test Loss: 2.3057\n",
            "Final, Train Loss: 2.2980, Test Loss: 2.3079\n",
            "Final, Train Loss: 2.2971, Test Loss: 2.3105\n",
            "Final, Train Loss: 2.3031, Test Loss: 2.3035\n",
            "Final, Train Loss: 2.2965, Test Loss: 2.3112\n",
            "Final, Train Loss: 2.3080, Test Loss: 2.3035\n",
            "Final, Train Loss: 2.3047, Test Loss: 2.3028\n",
            "Final, Train Loss: 0.1361, Test Loss: 15.1877\n",
            "Final, Train Loss: 1.0629, Test Loss: 1.0116\n",
            "Final, Train Loss: 2.3057, Test Loss: 2.3034\n",
            "Final, Train Loss: 2.3130, Test Loss: 2.3067\n",
            "Final, Train Loss: 2.3031, Test Loss: 2.3059\n",
            "Final, Train Loss: 2.2964, Test Loss: 2.3106\n",
            "Final, Train Loss: 2.3022, Test Loss: 2.3042\n",
            "Final, Train Loss: 0.0007, Test Loss: 2.6003\n",
            "Final, Train Loss: 2.3071, Test Loss: 2.3152\n",
            "Final, Train Loss: 2.2984, Test Loss: 2.3078\n",
            "Final, Train Loss: 2.2970, Test Loss: 2.3094\n",
            "Final, Train Loss: 2.3024, Test Loss: 2.3042\n",
            "Final, Train Loss: 0.0000, Test Loss: 2.3519\n",
            "Final, Train Loss: 2.3014, Test Loss: 2.3050\n",
            "Final, Train Loss: 0.0000, Test Loss: 2.8548\n",
            "Final, Train Loss: 2.3012, Test Loss: 2.3051\n",
            "Final, Train Loss: 2.3032, Test Loss: 2.3040\n",
            "Final, Train Loss: 2.3061, Test Loss: 2.3045\n",
            "Final, Train Loss: 0.5977, Test Loss: 18.8617\n",
            "Final, Train Loss: 1.9564, Test Loss: 2.7150\n",
            "Final, Train Loss: 2.2994, Test Loss: 2.3066\n",
            "Final, Train Loss: 2.3058, Test Loss: 2.3045\n",
            "Final, Train Loss: 2.3074, Test Loss: 2.3047\n",
            "Final, Train Loss: 2.2998, Test Loss: 2.3067\n",
            "Final, Train Loss: 2.3048, Test Loss: 2.3038\n",
            "Final, Train Loss: 0.0001, Test Loss: 5.3056\n",
            "Final, Train Loss: 2.3030, Test Loss: 2.3048\n",
            "Final, Train Loss: 0.1858, Test Loss: 16.9449\n",
            "Final, Train Loss: 2.3038, Test Loss: 2.3039\n",
            "Final, Train Loss: 1.8812, Test Loss: 21.7538\n",
            "Final, Train Loss: 2.3056, Test Loss: 2.3032\n",
            "Final, Train Loss: 2.1854, Test Loss: 18.7348\n",
            "Final, Train Loss: 1.1482, Test Loss: 3.8926\n",
            "Final, Train Loss: 2.3077, Test Loss: 2.3046\n",
            "Final, Train Loss: 0.4653, Test Loss: 9.1459\n"
          ]
        }
      ],
      "source": [
        "nb_hyperamaters_to_tune = 4\n",
        "nb_exported_statistics  = 2\n",
        "\n",
        "lowest_test_error = [sys.maxsize] * (nb_hyperamaters_to_tune + nb_exported_statistics)\n",
        "\n",
        "\n",
        "for _ in range(K):\n",
        "    # Pick random values from the intervals given for the different parameters\n",
        "    alpha_0_pick  = float(np.random.choice(alpha_0, 1)) # np.random.choice samples uniformely with replacement\n",
        "    beta_1_pick   = float(-np.random.choice(beta_1, 1) + 1)\n",
        "    beta_2_pick   = float(-np.random.choice(beta_2, 1) + 1)\n",
        "    eps_pick      = float(np.random.choice(eps, 1))\n",
        "    learning_rate = alpha_0_pick * eps_pick\n",
        "    \n",
        "    # Build optimizer from parameters\n",
        "    model=CNN()\n",
        "    model=model.to(device)\n",
        "    optimizer = torch.optim.Adam(model.parameters(), lr=learning_rate, betas=(beta_1_pick, beta_2_pick), eps=eps_pick)\n",
        "    \n",
        "    # Run\n",
        "    train_error, test_error = run_nn(x_train,y_train, x_test, y_test, model, optimizer, criterion, num_epoch, size_minibatch)\n",
        "    \n",
        "    # Concatenate hyperparameters with results\n",
        "    vector = [beta_1_pick, beta_2_pick, eps_pick, learning_rate, train_error, test_error]\n",
        "    \n",
        "    # Check wether we have the smallest test error and store parameters in case we find it\n",
        "    if test_error < lowest_test_error[len(lowest_test_error) - 1]:\n",
        "        lowest_test_error = vector"
      ]
    },
    {
      "cell_type": "code",
      "execution_count": null,
      "id": "52xLPeV8w3ZX",
      "metadata": {
        "colab": {
          "base_uri": "https://localhost:8080/"
        },
        "id": "52xLPeV8w3ZX",
        "outputId": "c150d107-02a4-4492-90bf-2c0c3e74c1f8"
      },
      "outputs": [
        {
          "name": "stdout",
          "output_type": "stream",
          "text": [
            "Beta 1: 0.31\n",
            "Beta 2: 0.82\n",
            "Epsilon: 1.00e-06\n",
            "Learning rate: 9.50e-06\n",
            "Train error: 1.062902\n",
            "Test error: 1.0116\n"
          ]
        }
      ],
      "source": [
        "# Print best parameters\n",
        "\n",
        "print('Beta 1: %.2f' % lowest_test_error[0])\n",
        "print('Beta 2: %.2f' % lowest_test_error[1])\n",
        "print('Epsilon: %.2e' % lowest_test_error[2])\n",
        "print('Learning rate: %.2e' % lowest_test_error[3])\n",
        "print('Train error: %.6f' % lowest_test_error[4])\n",
        "print('Test error: %.4f' % lowest_test_error[5])"
      ]
    },
    {
      "cell_type": "markdown",
      "id": "4QMdt95e81Uz",
      "metadata": {
        "id": "4QMdt95e81Uz"
      },
      "source": [
        "Run the model again with the best parameters to plot the convergence later."
      ]
    },
    {
      "cell_type": "code",
      "execution_count": null,
      "id": "65UAk5e2OvQP",
      "metadata": {
        "colab": {
          "base_uri": "https://localhost:8080/"
        },
        "id": "65UAk5e2OvQP",
        "outputId": "6e0a55dc-de8a-4003-c862-53fa88d1a904"
      },
      "outputs": [
        {
          "name": "stdout",
          "output_type": "stream",
          "text": [
            "Final, Train Loss: 1.0535, Test Loss: 1.0287\n"
          ]
        }
      ],
      "source": [
        "model = CNN()\n",
        "model = model.to(device)\n",
        "learning_rate = lowest_test_error[3]\n",
        "beta_1 = lowest_test_error[0]\n",
        "beta_2 = lowest_test_error[1]\n",
        "eps = lowest_test_error[2]\n",
        "optimizer = torch.optim.Adam(model.parameters(), lr=learning_rate, betas=(beta_1, beta_2), eps=eps)\n",
        "    \n",
        "loss_all_train_adam, loss_all_test_adam = [], []\n",
        "            \n",
        "for epoch in range(num_epoch):\n",
        "     for b in range(0, x_train.size(0), size_minibatch):\n",
        "            y = model(x_train[b:b+size_minibatch])\n",
        "            loss_train = criterion(y, y_train[b:b+size_minibatch])\n",
        "        \n",
        "            optimizer.zero_grad()\n",
        "            loss_train.backward()\n",
        "            optimizer.step()\n",
        "      \n",
        "     loss_train = loss_train.to('cpu').detach().numpy()\n",
        "     loss_all_train_adam.append(loss_train)\n",
        "\n",
        "     y_test_obt = model(x_test)\n",
        "     loss_test = criterion(y_test_obt, y_test)\n",
        "     loss_test = loss_test.to('cpu').detach().numpy()\n",
        "     loss_all_test_adam.append(loss_test)\n",
        "     if epoch == num_epoch - 1 :\n",
        "        print('Final, Train Loss: %.4f, Test Loss: %.4f' %(loss_train, loss_test))"
      ]
    },
    {
      "cell_type": "markdown",
      "id": "vlCpwVK0F0Zi",
      "metadata": {
        "id": "vlCpwVK0F0Zi"
      },
      "source": [
        "### 4.2. Tuning NosAdam for the CNN on CIFAR10\n",
        "The hyperparameters we are tuning are alpha_0/epsilon, 1 - beta_1, 1 - beta_2, epsilon.\n",
        "The final search spaces are suggested based on the experience of the writers of the same paper, \"On empirical comparisons of optimizers for deep learning\"."
      ]
    },
    {
      "cell_type": "markdown",
      "id": "Ve5Lz-7UF9QY",
      "metadata": {
        "id": "Ve5Lz-7UF9QY"
      },
      "source": [
        "Loading the NosAdam optimizer, source: https://github.com/andrehuang/NostalgicAdam-NosAdam "
      ]
    },
    {
      "cell_type": "code",
      "execution_count": null,
      "id": "77tZeD0VFAnp",
      "metadata": {
        "id": "77tZeD0VFAnp"
      },
      "outputs": [],
      "source": [
        "import math\n",
        "import torch\n",
        "from torch.optim.optimizer import Optimizer\n",
        "import numpy as np\n",
        "\n",
        "\n",
        "class NosAdam(Optimizer):\n",
        "\n",
        "    def __init__(self, params, lr=1e-3, betas=(0.9, 0.999), eps=1e-8,\n",
        "                 weight_decay=0, gamma=0, lr_decay=False):\n",
        "        if not 0.0 <= lr:\n",
        "            raise ValueError(\"Invalid learning rate: {}\".format(lr))\n",
        "        if not 0.0 <= eps:\n",
        "            raise ValueError(\"Invalid epsilon value: {}\".format(eps))\n",
        "        if not 0.0 <= betas[0] < 1.0:\n",
        "            raise ValueError(\"Invalid beta parameter at index 0: {}\".format(betas[0]))\n",
        "        if not 0.0 <= betas[1] < 1.0:\n",
        "            raise ValueError(\"Invalid beta parameter at index 1: {}\".format(betas[1]))\n",
        "        if not 0.0 <= gamma:\n",
        "            raise ValueError(\"Invalid gamma value: {}\".format(gamma))\n",
        "        defaults = dict(lr=lr, betas=betas, eps=eps,\n",
        "                        weight_decay=weight_decay, gamma=gamma, lr_decay=lr_decay)\n",
        "        super(NosAdam, self).__init__(params, defaults)\n",
        "\n",
        "    def __setstate__(self, state):\n",
        "        super(NosAdam, self).__setstate__(state)\n",
        "        for group in self.param_groups:\n",
        "            group.setdefault('lr_decay', False)\n",
        "\n",
        "    def step(self, closure=None):\n",
        "        \"\"\"Performs a single optimization step.\n",
        "\n",
        "        Arguments:\n",
        "            closure (callable, optional): A closure that reevaluates the model\n",
        "                and returns the loss.\n",
        "        \"\"\"\n",
        "        loss = None\n",
        "        if closure is not None:\n",
        "            loss = closure()\n",
        "\n",
        "        for group in self.param_groups:\n",
        "            for p in group['params']:\n",
        "                if p.grad is None:\n",
        "                    continue\n",
        "                grad = p.grad.data\n",
        "                if grad.is_sparse:\n",
        "                    raise RuntimeError('Adam does not support sparse gradients, please consider SparseAdam instead')\n",
        "                # amsgrad = group['amsgrad']\n",
        "\n",
        "                state = self.state[p]\n",
        "\n",
        "                # State initialization\n",
        "                if len(state) == 0:\n",
        "                    state['step'] = 0\n",
        "                    # Exponential moving average of gradient values\n",
        "                    state['exp_avg'] = torch.zeros_like(p.data)\n",
        "                    # Exponential moving average of squared gradient values\n",
        "                    state['exp_avg_sq'] = torch.zeros_like(p.data)\n",
        "\n",
        "                    state['B_old'] = 0\n",
        "                    state['B_new'] = 1\n",
        "                    # if amsgrad:\n",
        "                        # Maintains max of all exp. moving avg. of sq. grad. values\n",
        "                        # state['max_exp_avg_sq'] = torch.zeros_like(p.data)\n",
        "\n",
        "                exp_avg, exp_avg_sq = state['exp_avg'], state['exp_avg_sq']\n",
        "                # if amsgrad:\n",
        "                #     max_exp_avg_sq = state['max_exp_avg_sq']\n",
        "                beta1, beta2 = group['betas']\n",
        "                beta2 = state['B_old']/state['B_new']\n",
        "                gamma = group['gamma']\n",
        "                # pnorm = group['pnorm']\n",
        "                lr_decay = group['lr_decay']\n",
        "\n",
        "                state['step'] += 1\n",
        "\n",
        "                step = state['step']\n",
        "                state['B_old'] += math.pow(step, -gamma)\n",
        "                state['B_new'] += math.pow(step+1, -gamma)\n",
        "\n",
        "\n",
        "                if group['weight_decay'] != 0:\n",
        "                    grad = grad.add(group['weight_decay'], p.data)\n",
        "\n",
        "                # Decay the first and second moment running average coefficient\n",
        "                exp_avg.mul_(beta1).add_(1 - beta1, grad)\n",
        "                # if pnorm == 2:\n",
        "                #     exp_avg_sq.mul_(beta2).addcmul_(1 - beta2, grad, grad)\n",
        "                # elif pnorm ==3:\n",
        "                #     # exp_avg_sq.mul_(beta2).addcmul_(1 - beta2, grad, np.multiply(grad, grad))\n",
        "                #     exp_avg_sq = beta2*exp_avg_sq + (1 - beta2) * np.power(grad, 3)\n",
        "                exp_avg_sq.mul_(beta2).addcmul_(1 - beta2, grad, grad)\n",
        "\n",
        "                # if amsgrad:\n",
        "                #     # Maintains the maximum of all 2nd moment running avg. till now\n",
        "                #     torch.max(max_exp_avg_sq, exp_avg_sq, out=max_exp_avg_sq)\n",
        "                #     # Use the max. for normalizing running avg. of gradient\n",
        "                #     denom = max_exp_avg_sq.sqrt().add_(group['eps'])\n",
        "                # else:\n",
        "                # if pnorm ==2:\n",
        "                #     denom = exp_avg_sq.sqrt().add_(group['eps'])\n",
        "                # elif pnorm==3: # pnorm = 3\n",
        "                #     denom = np.cbrt(exp_avg_sq) + group['eps']\n",
        "\n",
        "                denom = exp_avg_sq.sqrt().add_(group['eps'])\n",
        "                bias_correction1 = 1 - beta1 ** state['step']\n",
        "                # AdaStab no longer needs bias correction for v_t\n",
        "                # bias_correction2 = 1 - beta2 ** state['step']\n",
        "                step_size = group['lr'] / bias_correction1\n",
        "                if lr_decay:\n",
        "                    step_size = step_size/math.sqrt(state['step'])\n",
        "\n",
        "\n",
        "                p.data.addcdiv_(-step_size, exp_avg, denom)\n",
        "\n",
        "        return loss\n",
        "\n",
        "    def denominator(self):\n",
        "        denom = np.array([0])\n",
        "        denom_sum = 0\n",
        "        for group in self.param_groups:\n",
        "            for p in group['params']:\n",
        "                if p.grad is None:\n",
        "                    continue\n",
        "                grad = p.grad.data\n",
        "                if grad.is_sparse:\n",
        "                    raise RuntimeError('Adam does not support sparse gradients, please consider SparseAdam instead')\n",
        "\n",
        "                state = self.state[p]\n",
        "                exp_avg_sq = state[\"exp_avg_sq\"]\n",
        "\n",
        "                exp_avg_sq = exp_avg_sq.numpy()\n",
        "                exp_avg_sq = np.reshape(exp_avg_sq, -1)\n",
        "                denom = np.concatenate((denom, exp_avg_sq))\n",
        "                denom_sum += torch.sum(exp_avg_sq)\n",
        "        return denom, denom_sum"
      ]
    },
    {
      "cell_type": "markdown",
      "id": "G3j0s3vpGLXd",
      "metadata": {
        "id": "G3j0s3vpGLXd"
      },
      "source": [
        "Perform search"
      ]
    },
    {
      "cell_type": "code",
      "execution_count": null,
      "id": "mNgMPRPzFMAe",
      "metadata": {
        "colab": {
          "base_uri": "https://localhost:8080/"
        },
        "id": "mNgMPRPzFMAe",
        "outputId": "0e0e7cdb-695e-46d1-92a4-df7e99313de0"
      },
      "outputs": [
        {
          "name": "stderr",
          "output_type": "stream",
          "text": [
            "/usr/local/lib/python3.7/dist-packages/ipykernel_launcher.py:86: UserWarning: This overload of add_ is deprecated:\n",
            "\tadd_(Number alpha, Tensor other)\n",
            "Consider using one of the following signatures instead:\n",
            "\tadd_(Tensor other, *, Number alpha) (Triggered internally at  ../torch/csrc/utils/python_arg_parser.cpp:1055.)\n"
          ]
        },
        {
          "name": "stdout",
          "output_type": "stream",
          "text": [
            "Final, Train Loss: 0.0010, Test Loss: 2.7916\n",
            "Final, Train Loss: 2.2992, Test Loss: 2.3065\n",
            "Final, Train Loss: 1.1551, Test Loss: 1.0601\n",
            "Final, Train Loss: 0.0904, Test Loss: 4.5935\n",
            "Final, Train Loss: 2.3020, Test Loss: 2.3044\n",
            "Final, Train Loss: 2.3035, Test Loss: 2.3031\n",
            "Final, Train Loss: 2.3028, Test Loss: 2.3036\n",
            "Final, Train Loss: 2.3009, Test Loss: 2.3050\n",
            "Final, Train Loss: 2.3011, Test Loss: 2.3050\n",
            "Final, Train Loss: 1.5986, Test Loss: 1.8827\n",
            "Final, Train Loss: 0.1845, Test Loss: 4.8542\n",
            "Final, Train Loss: 0.1216, Test Loss: 6.3692\n",
            "Final, Train Loss: 2.2981, Test Loss: 2.3077\n",
            "Final, Train Loss: 0.4838, Test Loss: 1.9783\n",
            "Final, Train Loss: 1.6897, Test Loss: 2.6228\n",
            "Final, Train Loss: 2.2986, Test Loss: 2.3071\n",
            "Final, Train Loss: 0.0091, Test Loss: 7.2132\n",
            "Final, Train Loss: 2.3060, Test Loss: 2.3040\n",
            "Final, Train Loss: 2.3029, Test Loss: 2.3049\n",
            "Final, Train Loss: 1.8847, Test Loss: 2.2957\n",
            "Final, Train Loss: 2.2980, Test Loss: 2.3078\n",
            "Final, Train Loss: 0.0096, Test Loss: 3.2084\n",
            "Final, Train Loss: 2.3032, Test Loss: 2.3040\n",
            "Final, Train Loss: 2.2748, Test Loss: 2.3030\n",
            "Final, Train Loss: 2.2975, Test Loss: 2.3087\n",
            "Final, Train Loss: 0.0245, Test Loss: 2.7307\n",
            "Final, Train Loss: 0.0878, Test Loss: 7.2560\n",
            "Final, Train Loss: 2.3033, Test Loss: 2.3040\n",
            "Final, Train Loss: 2.3020, Test Loss: 2.3043\n",
            "Final, Train Loss: 0.0002, Test Loss: 4.5172\n",
            "Final, Train Loss: 2.3106, Test Loss: 2.3046\n",
            "Final, Train Loss: 2.2998, Test Loss: 2.3060\n",
            "Final, Train Loss: 2.3034, Test Loss: 2.3033\n",
            "Final, Train Loss: 2.3006, Test Loss: 2.3057\n",
            "Final, Train Loss: 2.3028, Test Loss: 2.3040\n",
            "Final, Train Loss: 2.3041, Test Loss: 2.3030\n",
            "Final, Train Loss: 0.1234, Test Loss: 8.0585\n",
            "Final, Train Loss: 2.2974, Test Loss: 2.3089\n",
            "Final, Train Loss: 2.3008, Test Loss: 2.3051\n",
            "Final, Train Loss: 2.3040, Test Loss: 2.3036\n",
            "Final, Train Loss: 2.2985, Test Loss: 2.3072\n",
            "Final, Train Loss: 2.2976, Test Loss: 2.3089\n",
            "Final, Train Loss: 2.3036, Test Loss: 2.3029\n",
            "Final, Train Loss: 0.0282, Test Loss: 2.9664\n",
            "Final, Train Loss: 0.0060, Test Loss: 1.6143\n",
            "Final, Train Loss: 1.8887, Test Loss: 1.8789\n",
            "Final, Train Loss: 2.2996, Test Loss: 2.3061\n",
            "Final, Train Loss: 1.8008, Test Loss: 2.1015\n",
            "Final, Train Loss: 2.2997, Test Loss: 2.3060\n",
            "Final, Train Loss: 2.3033, Test Loss: 2.3031\n"
          ]
        }
      ],
      "source": [
        "nb_hyperamaters_to_tune = 4\n",
        "nb_exported_statistics  = 2\n",
        "\n",
        "lowest_test_error = [sys.maxsize] * (nb_hyperamaters_to_tune + nb_exported_statistics)\n",
        "\n",
        "\n",
        "for _ in range(K):\n",
        "    # Pick random values from the intervals given for the different parameters\n",
        "    alpha_0_pick  = float(np.random.choice(alpha_0, 1)) # np.random.choice samples uniformely with replacement\n",
        "    beta_1_pick   = float(-np.random.choice(beta_1, 1) + 1)\n",
        "    beta_2_pick   = float(-np.random.choice(beta_2, 1) + 1)\n",
        "    eps_pick      = float(np.random.choice(eps, 1))\n",
        "    learning_rate = alpha_0_pick * eps_pick\n",
        "    \n",
        "    # Build optimizer from parameters\n",
        "    model=CNN()\n",
        "    model=model.to(device)\n",
        "    optimizer = NosAdam(model.parameters(), lr=learning_rate, betas=(beta_1_pick, beta_2_pick), eps=eps_pick)\n",
        "    \n",
        "    # Run\n",
        "    train_error, test_error = run_nn(x_train,y_train, x_test, y_test, model, optimizer, criterion, num_epoch, size_minibatch)\n",
        "    \n",
        "    # Concatenate hyperparameters with results\n",
        "    vector = [beta_1_pick, beta_2_pick, eps_pick, learning_rate, train_error.item(), test_error.item()]\n",
        "    \n",
        "    # Check wether we have the smallest test error and store parameters in case we find it\n",
        "    if test_error < lowest_test_error[len(lowest_test_error) - 1]:\n",
        "        lowest_test_error = vector"
      ]
    },
    {
      "cell_type": "markdown",
      "id": "YgxzL66GGPHf",
      "metadata": {
        "id": "YgxzL66GGPHf"
      },
      "source": [
        "Print the best parameters"
      ]
    },
    {
      "cell_type": "code",
      "execution_count": null,
      "id": "Vn4XbYpZFlVx",
      "metadata": {
        "colab": {
          "base_uri": "https://localhost:8080/"
        },
        "id": "Vn4XbYpZFlVx",
        "outputId": "64cd75c6-4d24-4303-f050-da9c44341fc8"
      },
      "outputs": [
        {
          "name": "stdout",
          "output_type": "stream",
          "text": [
            "Beta 1: 0.9588\n",
            "Beta 2: 0.6331\n",
            "Epsilon: 1.00e-06\n",
            "Learning rate: 5.72e-06\n",
            "Train error: 1.155129\n",
            "Test error: 1.0601\n"
          ]
        }
      ],
      "source": [
        "# Print best parameters\n",
        "\n",
        "print('Beta 1: %.4f' % lowest_test_error[0])\n",
        "print('Beta 2: %.4f' % lowest_test_error[1])\n",
        "print('Epsilon: %.2e' % lowest_test_error[2])\n",
        "print('Learning rate: %.2e' % lowest_test_error[3])\n",
        "print('Train error: %.6f' % lowest_test_error[4])\n",
        "print('Test error: %.4f' % lowest_test_error[5])"
      ]
    },
    {
      "cell_type": "markdown",
      "id": "0vVBX9cRGSAs",
      "metadata": {
        "id": "0vVBX9cRGSAs"
      },
      "source": [
        "Run the model again to plot the convergence later"
      ]
    },
    {
      "cell_type": "code",
      "execution_count": null,
      "id": "O4QG1QQlFmUy",
      "metadata": {
        "colab": {
          "base_uri": "https://localhost:8080/"
        },
        "id": "O4QG1QQlFmUy",
        "outputId": "2a8125f9-cf5a-4565-e534-701531efe056"
      },
      "outputs": [
        {
          "name": "stdout",
          "output_type": "stream",
          "text": [
            "Final, Train Loss: 1.1263, Test Loss: 1.0516\n"
          ]
        }
      ],
      "source": [
        "model = CNN()\n",
        "model = model.to(device)\n",
        "learning_rate = lowest_test_error[3]\n",
        "beta_1 = lowest_test_error[0]\n",
        "beta_2 = lowest_test_error[1]\n",
        "eps = lowest_test_error[2]\n",
        "optimizer = NosAdam(model.parameters(), lr=learning_rate, betas=(beta_1, beta_2), eps=eps)\n",
        "    \n",
        "loss_all_train_nosadam, loss_all_test_nosadam = [], []\n",
        "            \n",
        "for epoch in range(num_epoch):\n",
        "     for b in range(0, x_train.size(0), size_minibatch):\n",
        "            y = model(x_train[b:b+size_minibatch])\n",
        "            loss_train = criterion(y, y_train[b:b+size_minibatch])\n",
        "        \n",
        "            optimizer.zero_grad()\n",
        "            loss_train.backward()\n",
        "            optimizer.step()\n",
        "      \n",
        "     loss_train = loss_train.to('cpu').detach().numpy()\n",
        "     loss_all_train_nosadam.append(loss_train)\n",
        "\n",
        "     y_test_obt = model(x_test)\n",
        "     loss_test = criterion(y_test_obt, y_test)\n",
        "     loss_test = loss_test.to('cpu').detach().numpy()\n",
        "     loss_all_test_nosadam.append(loss_test)\n",
        "     if epoch == num_epoch - 1 :\n",
        "        print('Final, Train Loss: %.4f, Test Loss: %.4f' %(loss_train, loss_test))"
      ]
    },
    {
      "cell_type": "markdown",
      "id": "6uP9nBFu9D7D",
      "metadata": {
        "id": "6uP9nBFu9D7D"
      },
      "source": [
        "Plots of models' convergence"
      ]
    },
    {
      "cell_type": "code",
      "execution_count": null,
      "id": "ZRJn7SEN9Hd-",
      "metadata": {
        "colab": {
          "base_uri": "https://localhost:8080/",
          "height": 276
        },
        "id": "ZRJn7SEN9Hd-",
        "outputId": "d725a838-5049-49e6-e064-8fe0c4574524"
      },
      "outputs": [
        {
          "data": {
            "image/png": "[encoded data removed]",
            "text/plain": [
              "<Figure size 432x288 with 1 Axes>"
            ]
          },
          "metadata": {},
          "output_type": "display_data"
        }
      ],
      "source": [
        "from IPython.core.pylabtools import figsize\n",
        "import numpy as np\n",
        "import matplotlib.pyplot as plt\n",
        "plt.style.use('seaborn-whitegrid')\n",
        "\n",
        "epochs = np.arange(0, 50, 1)\n",
        "\n",
        "plt.plot(epochs, loss_all_train_adam, label='Train Loss Adam')\n",
        "plt.plot(epochs, loss_all_test_adam, label='Test Loss Adam')\n",
        "plt.plot(epochs, loss_all_train_nosadam, label='Train Loss NosAdam')\n",
        "plt.plot(epochs, loss_all_test_nosadam, label='Test Loss NosAdam')\n",
        "\n",
        "plt.legend()\n",
        "plt.xlabel('Epoch')\n",
        "plt.ylabel('Loss')\n",
        "plt.savefig('cifar.pdf')\n",
        "\n",
        "plt.show()"
      ]
    }
  ],
  "metadata": {
    "accelerator": "GPU",
    "colab": {
      "collapsed_sections": [],
      "name": "Comparing Optimizers on CIFAR10.ipynb",
      "provenance": []
    },
    "interpreter": {
      "hash": "a31065c2cb285fc89af45a6e0e00b20f2f53e470cc5659f0bf6d768d5279787d"
    },
    "kernelspec": {
      "display_name": "Python 3.9.2 ('knvenv')",
      "language": "python",
      "name": "python3"
    },
    "language_info": {
      "codemirror_mode": {
        "name": "ipython",
        "version": 3
      },
      "file_extension": ".py",
      "mimetype": "text/x-python",
      "name": "python",
      "nbconvert_exporter": "python",
      "pygments_lexer": "ipython3",
      "version": "3.9.2"
    }
  },
  "nbformat": 4,
  "nbformat_minor": 5
}
